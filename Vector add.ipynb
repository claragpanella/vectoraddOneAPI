{
 "cells": [
  {
   "cell_type": "code",
   "execution_count": 20,
   "id": "f9b2ebcb-2517-47ed-9325-2f29c7372d9b",
   "metadata": {},
   "outputs": [
    {
     "name": "stdout",
     "output_type": "stream",
     "text": [
      "Overwriting lab/vector.cpp\n"
     ]
    }
   ],
   "source": [
    "%%writefile lab/vector.cpp\n",
    "\n",
    "#include <CL/sycl.hpp>\n",
    "using namespace sycl;\n",
    "\n",
    "static const size_t N = 100;\n",
    "\n",
    "#include <chrono>\n",
    "#include <vector>\n",
    "#include <numeric>\n",
    "#include <algorithm>\n",
    "\n",
    "void work(queue &q) {\n",
    "  std::cout << \"Device : \"\n",
    "            << q.get_device().get_info<info::device::name>()\n",
    "            << std::endl;\n",
    "            \n",
    "  std::vector<int> vector1(N);\n",
    "  std::iota(vector1.begin(), vector1.end(), 1);\n",
    "\n",
    "  std::cout << \"vector1  : \";\n",
    "  for (const auto& elem: vector1) std::cout << elem << ' ';\n",
    "  std::cout << std::endl;\n",
    "\n",
    "  std::vector<int> vector2(N);\n",
    "  std::generate(vector2.begin(), vector2.end(), [] {\n",
    "      static int i = 0;\n",
    "      return (++i * N);\n",
    "  });  \n",
    "\n",
    "  std::cout << \"vector2  : \";\n",
    "  for (const auto& elem: vector2) std::cout << elem << ' ';\n",
    "  std::cout << std::endl;\n",
    "\n",
    "\n",
    "  buffer vector1_buffer {vector1};\n",
    "  buffer vector2_buffer {vector2};\n",
    "    \n",
    "\n",
    "  q.submit([&](handler &h) {\n",
    "    auto vector1_accessor = vector1_buffer.get_access<access::mode::read_write>(h);\n",
    "    auto vector2_accessor = vector2_buffer.get_access <access::mode::read >(h);\n",
    "\n",
    "    h.parallel_for<class test>(range<1>(N), [=](id<1> index) {\n",
    "\n",
    "      vector1_accessor[index] += vector2_accessor[index];\n",
    "    });\n",
    "  });\n",
    "  q.wait();\n",
    "  vector1_buffer.get_access<access::mode::read>();\n",
    "\n",
    "  std::cout << \"vector1 + vector2  : \";\n",
    "  for (const auto& elem: vector1) std::cout << elem << ' ';\n",
    "  std::cout << std::endl;\n",
    "}\n",
    "\n",
    "int main() {  \n",
    "  try {\n",
    "    queue q;\n",
    "    auto start = std::chrono::high_resolution_clock::now();\n",
    "    work(q);\n",
    "    auto elapsed = std::chrono::high_resolution_clock::now() - start;\n",
    "    long long microseconds = std::chrono::duration_cast<std::chrono::microseconds>(elapsed).count();\n",
    "    std::cout << \"Elapsed microseconds : \" << microseconds << std::endl;\n",
    "  } catch (exception e) {\n",
    "    std::cerr << \"Exception: \" << e.what() << std::endl;\n",
    "    std::terminate();\n",
    "  } catch (...) {\n",
    "    std::cerr << \"Unknown exception\" << std::endl;\n",
    "    std::terminate();\n",
    "  }\n",
    "}"
   ]
  },
  {
   "cell_type": "code",
   "execution_count": 21,
   "id": "8142e2f6-d245-446d-9eb1-40e4b4402f23",
   "metadata": {},
   "outputs": [
    {
     "name": "stdout",
     "output_type": "stream",
     "text": [
      "Job has been submitted to Intel(R) DevCloud and will execute soon.\n",
      "\n",
      "Job ID                    Name             User            Time Use S Queue\n",
      "------------------------- ---------------- --------------- -------- - -----\n",
      "2296154.v-qsvr-1           ...ub-singleuser u192698         00:01:10 R jupyterhub     \n",
      "2296208.v-qsvr-1           run_vector.sh    u192698                0 Q batch          \n",
      "\n",
      "Waiting for Output ████████████████████ Done⬇\n",
      "\n",
      "########################################################################\n",
      "#      Date:           Tue 16 May 2023 05:06:14 PM PDT\n",
      "#    Job ID:           2296208.v-qsvr-1.aidevcloud\n",
      "#      User:           u192698\n",
      "# Resources:           cput=75:00:00,neednodes=1:gpu:ppn=2,nodes=1:gpu:ppn=2,walltime=06:00:00\n",
      "########################################################################\n",
      "\n",
      "## u192698 is compiling SYCL_Essentials Module1 -- oneAPI Intro sample - 1 of 1 vector.cpp\n",
      "Device : Intel(R) UHD Graphics [0x9a60]\n",
      "vector1  : 1 2 3 4 5 6 7 8 9 10 11 12 13 14 15 16 17 18 19 20 21 22 23 24 25 26 27 28 29 30 31 32 33 34 35 36 37 38 39 40 41 42 43 44 45 46 47 48 49 50 51 52 53 54 55 56 57 58 59 60 61 62 63 64 65 66 67 68 69 70 71 72 73 74 75 76 77 78 79 80 81 82 83 84 85 86 87 88 89 90 91 92 93 94 95 96 97 98 99 100 \n",
      "vector2  : 100 200 300 400 500 600 700 800 900 1000 1100 1200 1300 1400 1500 1600 1700 1800 1900 2000 2100 2200 2300 2400 2500 2600 2700 2800 2900 3000 3100 3200 3300 3400 3500 3600 3700 3800 3900 4000 4100 4200 4300 4400 4500 4600 4700 4800 4900 5000 5100 5200 5300 5400 5500 5600 5700 5800 5900 6000 6100 6200 6300 6400 6500 6600 6700 6800 6900 7000 7100 7200 7300 7400 7500 7600 7700 7800 7900 8000 8100 8200 8300 8400 8500 8600 8700 8800 8900 9000 9100 9200 9300 9400 9500 9600 9700 9800 9900 10000 \n",
      "vector1 + vector2  : 101 202 303 404 505 606 707 808 909 1010 1111 1212 1313 1414 1515 1616 1717 1818 1919 2020 2121 2222 2323 2424 2525 2626 2727 2828 2929 3030 3131 3232 3333 3434 3535 3636 3737 3838 3939 4040 4141 4242 4343 4444 4545 4646 4747 4848 4949 5050 5151 5252 5353 5454 5555 5656 5757 5858 5959 6060 6161 6262 6363 6464 6565 6666 6767 6868 6969 7070 7171 7272 7373 7474 7575 7676 7777 7878 7979 8080 8181 8282 8383 8484 8585 8686 8787 8888 8989 9090 9191 9292 9393 9494 9595 9696 9797 9898 9999 10100 \n",
      "Elapsed microseconds : 84178\n",
      "\n",
      "########################################################################\n",
      "# End of output for job 2296208.v-qsvr-1.aidevcloud\n",
      "# Date: Tue 16 May 2023 05:06:25 PM PDT\n",
      "########################################################################\n",
      "\n",
      "Job Completed in 20 seconds.\n"
     ]
    }
   ],
   "source": [
    "! chmod 755 q; chmod 755 run_vector.sh; if [ -x \"$(command -v qsub)\" ]; then ./q run_vector.sh; else ./run_vector.sh; fi"
   ]
  },
  {
   "cell_type": "code",
   "execution_count": null,
   "id": "87b1ef26-d96f-4fe5-94ee-fcaf509d4d76",
   "metadata": {},
   "outputs": [],
   "source": []
  }
 ],
 "metadata": {
  "kernelspec": {
   "display_name": "Python 3 (Intel® oneAPI 2023.1)",
   "language": "python",
   "name": "c009-intel_distribution_of_python_3_oneapi-beta05-python"
  },
  "language_info": {
   "codemirror_mode": {
    "name": "ipython",
    "version": 3
   },
   "file_extension": ".py",
   "mimetype": "text/x-python",
   "name": "python",
   "nbconvert_exporter": "python",
   "pygments_lexer": "ipython3",
   "version": "3.9.16"
  }
 },
 "nbformat": 4,
 "nbformat_minor": 5
}
